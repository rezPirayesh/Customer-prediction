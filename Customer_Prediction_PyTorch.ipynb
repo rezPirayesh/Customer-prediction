{
  "nbformat": 4,
  "nbformat_minor": 0,
  "metadata": {
    "colab": {
      "provenance": [],
      "gpuType": "T4",
      "mount_file_id": "1rgvSKiE3Bl4MjZg4tE7bTEfby2Ojd1xF",
      "authorship_tag": "ABX9TyP1Ux+x5VE9MLJyBpzCYjbM",
      "include_colab_link": true
    },
    "kernelspec": {
      "name": "python3",
      "display_name": "Python 3"
    },
    "language_info": {
      "name": "python"
    },
    "accelerator": "GPU"
  },
  "cells": [
    {
      "cell_type": "markdown",
      "metadata": {
        "id": "view-in-github",
        "colab_type": "text"
      },
      "source": [
        "<a href=\"https://colab.research.google.com/github/rezPirayesh/Customer-prediction/blob/main/Customer_Prediction_PyTorch.ipynb\" target=\"_parent\"><img src=\"https://colab.research.google.com/assets/colab-badge.svg\" alt=\"Open In Colab\"/></a>"
      ]
    },
    {
      "cell_type": "code",
      "execution_count": 7,
      "metadata": {
        "colab": {
          "base_uri": "https://localhost:8080/"
        },
        "id": "OFDOeGzMeXrZ",
        "outputId": "c7489f53-0329-4542-df95-d07857130c66"
      },
      "outputs": [
        {
          "output_type": "stream",
          "name": "stdout",
          "text": [
            "Hello, Colab works!\n",
            "2.6.0+cu124\n",
            "GPU available: True\n"
          ]
        }
      ],
      "source": [
        "print(\"Hello, Colab works!\")\n",
        "import torch\n",
        "print(torch.__version__)\n",
        "print(\"GPU available:\", torch.cuda.is_available())"
      ]
    },
    {
      "cell_type": "code",
      "source": [
        "import pandas as pd\n",
        "df = pd.read_csv('data.csv', encoding='ISO-8859-1')\n",
        "print(df.head())  # First 5 rows\n",
        "print(df.info())  # Columns, types\n",
        "print(df['CustomerID'].notnull().value_counts())  # Purchase indicator"
      ],
      "metadata": {
        "colab": {
          "base_uri": "https://localhost:8080/"
        },
        "id": "ByKeLjox64DS",
        "outputId": "2301dff0-6bed-46a3-8e74-3ef16ffbe27a"
      },
      "execution_count": 3,
      "outputs": [
        {
          "output_type": "stream",
          "name": "stdout",
          "text": [
            "  InvoiceNo StockCode                          Description  Quantity  \\\n",
            "0    536365    85123A   WHITE HANGING HEART T-LIGHT HOLDER         6   \n",
            "1    536365     71053                  WHITE METAL LANTERN         6   \n",
            "2    536365    84406B       CREAM CUPID HEARTS COAT HANGER         8   \n",
            "3    536365    84029G  KNITTED UNION FLAG HOT WATER BOTTLE         6   \n",
            "4    536365    84029E       RED WOOLLY HOTTIE WHITE HEART.         6   \n",
            "\n",
            "      InvoiceDate  UnitPrice  CustomerID         Country  \n",
            "0  12/1/2010 8:26       2.55     17850.0  United Kingdom  \n",
            "1  12/1/2010 8:26       3.39     17850.0  United Kingdom  \n",
            "2  12/1/2010 8:26       2.75     17850.0  United Kingdom  \n",
            "3  12/1/2010 8:26       3.39     17850.0  United Kingdom  \n",
            "4  12/1/2010 8:26       3.39     17850.0  United Kingdom  \n",
            "<class 'pandas.core.frame.DataFrame'>\n",
            "RangeIndex: 541909 entries, 0 to 541908\n",
            "Data columns (total 8 columns):\n",
            " #   Column       Non-Null Count   Dtype  \n",
            "---  ------       --------------   -----  \n",
            " 0   InvoiceNo    541909 non-null  object \n",
            " 1   StockCode    541909 non-null  object \n",
            " 2   Description  540455 non-null  object \n",
            " 3   Quantity     541909 non-null  int64  \n",
            " 4   InvoiceDate  541909 non-null  object \n",
            " 5   UnitPrice    541909 non-null  float64\n",
            " 6   CustomerID   406829 non-null  float64\n",
            " 7   Country      541909 non-null  object \n",
            "dtypes: float64(2), int64(1), object(5)\n",
            "memory usage: 33.1+ MB\n",
            "None\n",
            "CustomerID\n",
            "True     406829\n",
            "False    135080\n",
            "Name: count, dtype: int64\n"
          ]
        }
      ]
    },
    {
      "cell_type": "code",
      "source": [
        "import torch\n",
        "import torch.nn as nn\n",
        "model = nn.Sequential(\n",
        "    nn.Linear(2, 4),\n",
        "    nn.ReLU(),\n",
        "    nn.Linear(4, 1),\n",
        "    nn.Sigmoid()\n",
        ")\n",
        "print(\"Model created:\", model)"
      ],
      "metadata": {
        "colab": {
          "base_uri": "https://localhost:8080/"
        },
        "id": "jah1A0pXF2j4",
        "outputId": "fc9eb733-0719-4c41-b3d2-9cc9cc14b432"
      },
      "execution_count": 4,
      "outputs": [
        {
          "output_type": "stream",
          "name": "stdout",
          "text": [
            "Model created: Sequential(\n",
            "  (0): Linear(in_features=2, out_features=4, bias=True)\n",
            "  (1): ReLU()\n",
            "  (2): Linear(in_features=4, out_features=1, bias=True)\n",
            "  (3): Sigmoid()\n",
            ")\n"
          ]
        }
      ]
    },
    {
      "cell_type": "code",
      "source": [
        "import pandas as pd\n",
        "df = pd.read_csv('data.csv', encoding='ISO-8859-1')\n",
        "df = df.dropna(subset=['CustomerID'])\n",
        "df = df[df['Quantity'] > 0]\n",
        "df['InvoiceDate'] = pd.to_datetime(df['InvoiceDate'])\n",
        "print(\"Cleaned dataset:\")\n",
        "print(df.info())\n",
        "print(df.head())"
      ],
      "metadata": {
        "id": "hoXhkNmrHKVE",
        "colab": {
          "base_uri": "https://localhost:8080/"
        },
        "outputId": "b887cfaf-3620-4e07-8c39-a8250bc8d4e7"
      },
      "execution_count": 5,
      "outputs": [
        {
          "output_type": "stream",
          "name": "stdout",
          "text": [
            "Cleaned dataset:\n",
            "<class 'pandas.core.frame.DataFrame'>\n",
            "Index: 397924 entries, 0 to 541908\n",
            "Data columns (total 8 columns):\n",
            " #   Column       Non-Null Count   Dtype         \n",
            "---  ------       --------------   -----         \n",
            " 0   InvoiceNo    397924 non-null  object        \n",
            " 1   StockCode    397924 non-null  object        \n",
            " 2   Description  397924 non-null  object        \n",
            " 3   Quantity     397924 non-null  int64         \n",
            " 4   InvoiceDate  397924 non-null  datetime64[ns]\n",
            " 5   UnitPrice    397924 non-null  float64       \n",
            " 6   CustomerID   397924 non-null  float64       \n",
            " 7   Country      397924 non-null  object        \n",
            "dtypes: datetime64[ns](1), float64(2), int64(1), object(4)\n",
            "memory usage: 27.3+ MB\n",
            "None\n",
            "  InvoiceNo StockCode                          Description  Quantity  \\\n",
            "0    536365    85123A   WHITE HANGING HEART T-LIGHT HOLDER         6   \n",
            "1    536365     71053                  WHITE METAL LANTERN         6   \n",
            "2    536365    84406B       CREAM CUPID HEARTS COAT HANGER         8   \n",
            "3    536365    84029G  KNITTED UNION FLAG HOT WATER BOTTLE         6   \n",
            "4    536365    84029E       RED WOOLLY HOTTIE WHITE HEART.         6   \n",
            "\n",
            "          InvoiceDate  UnitPrice  CustomerID         Country  \n",
            "0 2010-12-01 08:26:00       2.55     17850.0  United Kingdom  \n",
            "1 2010-12-01 08:26:00       3.39     17850.0  United Kingdom  \n",
            "2 2010-12-01 08:26:00       2.75     17850.0  United Kingdom  \n",
            "3 2010-12-01 08:26:00       3.39     17850.0  United Kingdom  \n",
            "4 2010-12-01 08:26:00       3.39     17850.0  United Kingdom  \n"
          ]
        }
      ]
    },
    {
      "cell_type": "code",
      "source": [
        "df['TotalPrice'] = df['Quantity'] * df['UnitPrice']\n",
        "customer_data = df.groupby('CustomerID').agg({\n",
        "    'TotalPrice': 'sum',\n",
        "    'InvoiceNo': 'nunique',\n",
        "    'Quantity': 'sum'\n",
        "}).reset_index()\n",
        "customer_data.columns = ['CustomerID', 'TotalSpent', 'PurchaseFrequency', 'TotalItems']\n",
        "customer_data['Purchased'] = 1\n",
        "print(\"Customer features:\")\n",
        "print(customer_data.head())\n",
        "print(customer_data.info())"
      ],
      "metadata": {
        "colab": {
          "base_uri": "https://localhost:8080/"
        },
        "id": "M5QnNuPM66Hk",
        "outputId": "e79d7de3-6c70-43b1-857f-ed171360a36e"
      },
      "execution_count": 6,
      "outputs": [
        {
          "output_type": "stream",
          "name": "stdout",
          "text": [
            "Customer features:\n",
            "   CustomerID  TotalSpent  PurchaseFrequency  TotalItems  Purchased\n",
            "0     12346.0    77183.60                  1       74215          1\n",
            "1     12347.0     4310.00                  7        2458          1\n",
            "2     12348.0     1797.24                  4        2341          1\n",
            "3     12349.0     1757.55                  1         631          1\n",
            "4     12350.0      334.40                  1         197          1\n",
            "<class 'pandas.core.frame.DataFrame'>\n",
            "RangeIndex: 4339 entries, 0 to 4338\n",
            "Data columns (total 5 columns):\n",
            " #   Column             Non-Null Count  Dtype  \n",
            "---  ------             --------------  -----  \n",
            " 0   CustomerID         4339 non-null   float64\n",
            " 1   TotalSpent         4339 non-null   float64\n",
            " 2   PurchaseFrequency  4339 non-null   int64  \n",
            " 3   TotalItems         4339 non-null   int64  \n",
            " 4   Purchased          4339 non-null   int64  \n",
            "dtypes: float64(2), int64(3)\n",
            "memory usage: 169.6 KB\n",
            "None\n"
          ]
        }
      ]
    },
    {
      "cell_type": "code",
      "source": [
        "from sklearn.preprocessing import StandardScaler\n",
        "from sklearn.model_selection import train_test_split\n",
        "import torch\n",
        "\n",
        "# Features and target\n",
        "X = customer_data[['TotalSpent', 'PurchaseFrequency', 'TotalItems']].values\n",
        "y = customer_data['Purchased'].values\n",
        "\n",
        "# Scale features\n",
        "scaler = StandardScaler()\n",
        "X_scaled = scaler.fit_transform(X)\n",
        "\n",
        "# Split data\n",
        "X_train, X_test, y_train, y_test = train_test_split(X_scaled, y, test_size=0.2, random_state=42)\n",
        "\n",
        "# Convert to PyTorch tensors\n",
        "X_train = torch.FloatTensor(X_train).to('cuda')\n",
        "X_test = torch.FloatTensor(X_test).to('cuda')\n",
        "y_train = torch.FloatTensor(y_train).to('cuda').reshape(-1, 1)\n",
        "y_test = torch.FloatTensor(y_test).to('cuda').reshape(-1, 1)\n",
        "\n",
        "print(\"Training data shape:\", X_train.shape)\n",
        "print(\"Test data shape:\", X_test.shape)"
      ],
      "metadata": {
        "colab": {
          "base_uri": "https://localhost:8080/"
        },
        "id": "uc9mvjKs96z5",
        "outputId": "636a963b-31c7-45b2-d4de-2c8170a79c2f"
      },
      "execution_count": 7,
      "outputs": [
        {
          "output_type": "stream",
          "name": "stdout",
          "text": [
            "Training data shape: torch.Size([3471, 3])\n",
            "Test data shape: torch.Size([868, 3])\n"
          ]
        }
      ]
    },
    {
      "cell_type": "code",
      "source": [
        "print(\"Customer data size:\", customer_data.shape)\n",
        "print(customer_data.head())"
      ],
      "metadata": {
        "colab": {
          "base_uri": "https://localhost:8080/"
        },
        "id": "PLZ5mXfsCJ2m",
        "outputId": "bc9208a0-351a-4dff-a12c-c758476c091c"
      },
      "execution_count": 8,
      "outputs": [
        {
          "output_type": "stream",
          "name": "stdout",
          "text": [
            "Customer data size: (4339, 5)\n",
            "   CustomerID  TotalSpent  PurchaseFrequency  TotalItems  Purchased\n",
            "0     12346.0    77183.60                  1       74215          1\n",
            "1     12347.0     4310.00                  7        2458          1\n",
            "2     12348.0     1797.24                  4        2341          1\n",
            "3     12349.0     1757.55                  1         631          1\n",
            "4     12350.0      334.40                  1         197          1\n"
          ]
        }
      ]
    },
    {
      "cell_type": "code",
      "source": [
        "import torch\n",
        "import torch.nn as nn\n",
        "\n",
        "class CustomerNet(nn.Module):\n",
        "    def __init__(self):\n",
        "        super().__init__()\n",
        "        self.layers = nn.Sequential(\n",
        "            nn.Linear(3, 16),  # 3 features\n",
        "            nn.ReLU(),\n",
        "            nn.Linear(16, 8),\n",
        "            nn.ReLU(),\n",
        "            nn.Linear(8, 1),\n",
        "            nn.Sigmoid()\n",
        "        )\n",
        "    def forward(self, x):\n",
        "        return self.layers(x)\n",
        "\n",
        "model = CustomerNet().to('cuda')\n",
        "print(model)"
      ],
      "metadata": {
        "colab": {
          "base_uri": "https://localhost:8080/"
        },
        "id": "RUdK-xfol2Ls",
        "outputId": "870e2a12-277d-4766-c415-550524928f76"
      },
      "execution_count": 9,
      "outputs": [
        {
          "output_type": "stream",
          "name": "stdout",
          "text": [
            "CustomerNet(\n",
            "  (layers): Sequential(\n",
            "    (0): Linear(in_features=3, out_features=16, bias=True)\n",
            "    (1): ReLU()\n",
            "    (2): Linear(in_features=16, out_features=8, bias=True)\n",
            "    (3): ReLU()\n",
            "    (4): Linear(in_features=8, out_features=1, bias=True)\n",
            "    (5): Sigmoid()\n",
            "  )\n",
            ")\n"
          ]
        }
      ]
    },
    {
      "cell_type": "code",
      "source": [
        "import torch.optim as optim\n",
        "\n",
        "criterion = nn.BCELoss()\n",
        "optimizer = optim.Adam(model.parameters(), lr=0.001)\n",
        "\n",
        "epochs = 100\n",
        "for epoch in range(epochs):\n",
        "    optimizer.zero_grad()\n",
        "    outputs = model(X_train)\n",
        "    loss = criterion(outputs, y_train)\n",
        "    loss.backward()\n",
        "    optimizer.step()\n",
        "    if (epoch + 1) % 10 == 0:\n",
        "        print(f\"Epoch {epoch+1}, Loss: {loss.item():.4f}\")"
      ],
      "metadata": {
        "colab": {
          "base_uri": "https://localhost:8080/"
        },
        "id": "7I-6RdgOmYXe",
        "outputId": "838eadaf-3673-41e0-a47a-417a1db2f1bd"
      },
      "execution_count": 10,
      "outputs": [
        {
          "output_type": "stream",
          "name": "stdout",
          "text": [
            "Epoch 10, Loss: 0.5564\n",
            "Epoch 20, Loss: 0.5309\n",
            "Epoch 30, Loss: 0.5052\n",
            "Epoch 40, Loss: 0.4789\n",
            "Epoch 50, Loss: 0.4506\n",
            "Epoch 60, Loss: 0.4183\n",
            "Epoch 70, Loss: 0.3833\n",
            "Epoch 80, Loss: 0.3459\n",
            "Epoch 90, Loss: 0.3076\n",
            "Epoch 100, Loss: 0.2691\n"
          ]
        }
      ]
    },
    {
      "cell_type": "code",
      "source": [
        "import pandas as pd\n",
        "df = pd.read_csv('data.csv', encoding='ISO-8859-1')\n",
        "df = df.dropna(subset=['CustomerID'])\n",
        "df = df[df['Quantity'] > 0]\n",
        "df['InvoiceDate'] = pd.to_datetime(df['InvoiceDate'])\n",
        "df['TotalPrice'] = df['Quantity'] * df['UnitPrice']\n",
        "customer_data = df.groupby('CustomerID').agg({\n",
        "    'TotalPrice': 'sum',\n",
        "    'InvoiceNo': 'nunique',\n",
        "    'Quantity': 'sum'\n",
        "}).reset_index()\n",
        "customer_data.columns = ['CustomerID', 'TotalSpent', 'PurchaseFrequency', 'TotalItems']\n",
        "customer_data['Purchased'] = 1\n",
        "print(\"Customer data size:\", customer_data.shape)\n",
        "\n",
        "from sklearn.preprocessing import StandardScaler\n",
        "from sklearn.model_selection import train_test_split\n",
        "import torch\n",
        "X = customer_data[['TotalSpent', 'PurchaseFrequency', 'TotalItems']].values\n",
        "y = customer_data['Purchased'].values\n",
        "scaler = StandardScaler()\n",
        "X_scaled = scaler.fit_transform(X)\n",
        "X_train, X_test, y_train, y_test = train_test_split(X_scaled, y, test_size=0.2, random_state=42)\n",
        "X_train = torch.FloatTensor(X_train).to('cuda')\n",
        "X_test = torch.FloatTensor(X_test).to('cuda')\n",
        "y_train = torch.FloatTensor(y_train).to('cuda').reshape(-1, 1)\n",
        "y_test = torch.FloatTensor(y_test).to('cuda').reshape(-1, 1)\n",
        "print(\"Training data shape:\", X_train.shape)\n",
        "print(\"Test data shape:\", X_test.shape)"
      ],
      "metadata": {
        "colab": {
          "base_uri": "https://localhost:8080/"
        },
        "id": "zfaPV-Ti4IbW",
        "outputId": "2043322a-cc67-44bf-e8f9-d9a4992f257a"
      },
      "execution_count": 11,
      "outputs": [
        {
          "output_type": "stream",
          "name": "stdout",
          "text": [
            "Customer data size: (4339, 5)\n",
            "Training data shape: torch.Size([3471, 3])\n",
            "Test data shape: torch.Size([868, 3])\n"
          ]
        }
      ]
    },
    {
      "cell_type": "code",
      "source": [
        "import torch\n",
        "import torch.nn as nn\n",
        "class CustomerNet(nn.Module):\n",
        "    def __init__(self):\n",
        "        super().__init__()\n",
        "        self.layers = nn.Sequential(\n",
        "            nn.Linear(3, 16),\n",
        "            nn.ReLU(),\n",
        "            nn.Linear(16, 8),\n",
        "            nn.ReLU(),\n",
        "            nn.Linear(8, 1),\n",
        "            nn.Sigmoid()\n",
        "        )\n",
        "    def forward(self, x):\n",
        "        return self.layers(x)\n",
        "model = CustomerNet().to('cuda')\n",
        "print(model)\n",
        "\n",
        "import torch.optim as optim\n",
        "criterion = nn.BCELoss()\n",
        "optimizer = optim.Adam(model.parameters(), lr=0.001)\n",
        "epochs = 100\n",
        "for epoch in range(epochs):\n",
        "    optimizer.zero_grad()\n",
        "    outputs = model(X_train)\n",
        "    loss = criterion(outputs, y_train)\n",
        "    loss.backward()\n",
        "    optimizer.step()\n",
        "    if (epoch + 1) % 10 == 0:\n",
        "        print(f\"Epoch {epoch+1}, Loss: {loss.item():.4f}\")"
      ],
      "metadata": {
        "colab": {
          "base_uri": "https://localhost:8080/"
        },
        "id": "y9E5SH6n4pMV",
        "outputId": "a09b9c2c-d7c1-4a48-8228-94573418d755"
      },
      "execution_count": 12,
      "outputs": [
        {
          "output_type": "stream",
          "name": "stdout",
          "text": [
            "CustomerNet(\n",
            "  (layers): Sequential(\n",
            "    (0): Linear(in_features=3, out_features=16, bias=True)\n",
            "    (1): ReLU()\n",
            "    (2): Linear(in_features=16, out_features=8, bias=True)\n",
            "    (3): ReLU()\n",
            "    (4): Linear(in_features=8, out_features=1, bias=True)\n",
            "    (5): Sigmoid()\n",
            "  )\n",
            ")\n",
            "Epoch 10, Loss: 0.4979\n",
            "Epoch 20, Loss: 0.4829\n",
            "Epoch 30, Loss: 0.4669\n",
            "Epoch 40, Loss: 0.4490\n",
            "Epoch 50, Loss: 0.4270\n",
            "Epoch 60, Loss: 0.4022\n",
            "Epoch 70, Loss: 0.3762\n",
            "Epoch 80, Loss: 0.3485\n",
            "Epoch 90, Loss: 0.3132\n",
            "Epoch 100, Loss: 0.2757\n"
          ]
        }
      ]
    },
    {
      "cell_type": "code",
      "source": [
        "with torch.no_grad():\n",
        "    model.eval()\n",
        "    predictions = model(X_test)\n",
        "    predictions = (predictions > 0.5).float()\n",
        "    accuracy = (predictions == y_test).float().mean()\n",
        "    print(f\"Test Accuracy: {accuracy.item():.4f}\")"
      ],
      "metadata": {
        "colab": {
          "base_uri": "https://localhost:8080/"
        },
        "id": "m33rDyr_5BWd",
        "outputId": "2eb9b248-f0fc-4371-c86c-605d27826598"
      },
      "execution_count": 13,
      "outputs": [
        {
          "output_type": "stream",
          "name": "stdout",
          "text": [
            "Test Accuracy: 1.0000\n"
          ]
        }
      ]
    }
  ]
}