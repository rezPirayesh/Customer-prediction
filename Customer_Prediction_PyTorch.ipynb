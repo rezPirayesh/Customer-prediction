{
  "nbformat": 4,
  "nbformat_minor": 0,
  "metadata": {
    "colab": {
      "provenance": [],
      "gpuType": "T4",
      "mount_file_id": "1rgvSKiE3Bl4MjZg4tE7bTEfby2Ojd1xF",
      "authorship_tag": "ABX9TyMvxWOuOahbqNAKMf0MeChG",
      "include_colab_link": true
    },
    "kernelspec": {
      "name": "python3",
      "display_name": "Python 3"
    },
    "language_info": {
      "name": "python"
    },
    "accelerator": "GPU"
  },
  "cells": [
    {
      "cell_type": "markdown",
      "metadata": {
        "id": "view-in-github",
        "colab_type": "text"
      },
      "source": [
        "<a href=\"https://colab.research.google.com/github/rezPirayesh/Customer-prediction/blob/main/Customer_Prediction_PyTorch.ipynb\" target=\"_parent\"><img src=\"https://colab.research.google.com/assets/colab-badge.svg\" alt=\"Open In Colab\"/></a>"
      ]
    },
    {
      "cell_type": "code",
      "execution_count": null,
      "metadata": {
        "colab": {
          "base_uri": "https://localhost:8080/"
        },
        "id": "OFDOeGzMeXrZ",
        "outputId": "9344a8a3-56e2-4ded-b3df-c4df133fb77e"
      },
      "outputs": [
        {
          "output_type": "stream",
          "name": "stdout",
          "text": [
            "Hello, Colab works!\n",
            "2.6.0+cu124\n",
            "GPU available: True\n"
          ]
        }
      ],
      "source": [
        "print(\"Hello, Colab works!\")\n",
        "import torch\n",
        "print(torch.__version__)\n",
        "print(\"GPU available:\", torch.cuda.is_available())"
      ]
    },
    {
      "cell_type": "code",
      "source": [
        "import pandas as pd\n",
        "df = pd.read_csv('data.csv', encoding='ISO-8859-1')\n",
        "print(df.head())  # First 5 rows\n",
        "print(df.info())  # Columns, types\n",
        "print(df['CustomerID'].notnull().value_counts())  # Purchase indicator"
      ],
      "metadata": {
        "colab": {
          "base_uri": "https://localhost:8080/"
        },
        "id": "ByKeLjox64DS",
        "outputId": "bc4f21ec-93c1-45dd-a3a4-14dddab0f8b6"
      },
      "execution_count": null,
      "outputs": [
        {
          "output_type": "stream",
          "name": "stdout",
          "text": [
            "  InvoiceNo StockCode                          Description  Quantity  \\\n",
            "0    536365    85123A   WHITE HANGING HEART T-LIGHT HOLDER         6   \n",
            "1    536365     71053                  WHITE METAL LANTERN         6   \n",
            "2    536365    84406B       CREAM CUPID HEARTS COAT HANGER         8   \n",
            "3    536365    84029G  KNITTED UNION FLAG HOT WATER BOTTLE         6   \n",
            "4    536365    84029E       RED WOOLLY HOTTIE WHITE HEART.         6   \n",
            "\n",
            "      InvoiceDate  UnitPrice  CustomerID         Country  \n",
            "0  12/1/2010 8:26       2.55     17850.0  United Kingdom  \n",
            "1  12/1/2010 8:26       3.39     17850.0  United Kingdom  \n",
            "2  12/1/2010 8:26       2.75     17850.0  United Kingdom  \n",
            "3  12/1/2010 8:26       3.39     17850.0  United Kingdom  \n",
            "4  12/1/2010 8:26       3.39     17850.0  United Kingdom  \n",
            "<class 'pandas.core.frame.DataFrame'>\n",
            "RangeIndex: 100247 entries, 0 to 100246\n",
            "Data columns (total 8 columns):\n",
            " #   Column       Non-Null Count   Dtype  \n",
            "---  ------       --------------   -----  \n",
            " 0   InvoiceNo    100247 non-null  object \n",
            " 1   StockCode    100247 non-null  object \n",
            " 2   Description  99948 non-null   object \n",
            " 3   Quantity     100247 non-null  int64  \n",
            " 4   InvoiceDate  100247 non-null  object \n",
            " 5   UnitPrice    100246 non-null  float64\n",
            " 6   CustomerID   65312 non-null   float64\n",
            " 7   Country      100246 non-null  object \n",
            "dtypes: float64(2), int64(1), object(5)\n",
            "memory usage: 6.1+ MB\n",
            "None\n",
            "CustomerID\n",
            "True     65312\n",
            "False    34935\n",
            "Name: count, dtype: int64\n"
          ]
        }
      ]
    },
    {
      "cell_type": "code",
      "source": [
        "import torch\n",
        "import torch.nn as nn\n",
        "model = nn.Sequential(\n",
        "    nn.Linear(2, 4),\n",
        "    nn.ReLU(),\n",
        "    nn.Linear(4, 1),\n",
        "    nn.Sigmoid()\n",
        ")\n",
        "print(\"Model created:\", model)"
      ],
      "metadata": {
        "colab": {
          "base_uri": "https://localhost:8080/"
        },
        "id": "jah1A0pXF2j4",
        "outputId": "f1cf2942-58f1-4504-932a-7dc49dac9f39"
      },
      "execution_count": null,
      "outputs": [
        {
          "output_type": "stream",
          "name": "stdout",
          "text": [
            "Model created: Sequential(\n",
            "  (0): Linear(in_features=2, out_features=4, bias=True)\n",
            "  (1): ReLU()\n",
            "  (2): Linear(in_features=4, out_features=1, bias=True)\n",
            "  (3): Sigmoid()\n",
            ")\n"
          ]
        }
      ]
    },
    {
      "cell_type": "code",
      "source": [
        "import pandas as pd\n",
        "df = pd.read_csv('data.csv', encoding='ISO-8859-1')\n",
        "df = df.dropna(subset=['CustomerID'])\n",
        "df = df[df['Quantity'] > 0]\n",
        "df['InvoiceDate'] = pd.to_datetime(df['InvoiceDate'])\n",
        "print(\"Cleaned dataset:\")\n",
        "print(df.info())\n",
        "print(df.head())"
      ],
      "metadata": {
        "id": "hoXhkNmrHKVE",
        "colab": {
          "base_uri": "https://localhost:8080/"
        },
        "outputId": "cf1b5715-afee-4c02-cf3e-17741f5cbcda"
      },
      "execution_count": 2,
      "outputs": [
        {
          "output_type": "stream",
          "name": "stdout",
          "text": [
            "Cleaned dataset:\n",
            "<class 'pandas.core.frame.DataFrame'>\n",
            "Index: 54345 entries, 0 to 87647\n",
            "Data columns (total 8 columns):\n",
            " #   Column       Non-Null Count  Dtype         \n",
            "---  ------       --------------  -----         \n",
            " 0   InvoiceNo    54345 non-null  object        \n",
            " 1   StockCode    54345 non-null  object        \n",
            " 2   Description  54345 non-null  object        \n",
            " 3   Quantity     54345 non-null  int64         \n",
            " 4   InvoiceDate  54345 non-null  datetime64[ns]\n",
            " 5   UnitPrice    54345 non-null  float64       \n",
            " 6   CustomerID   54345 non-null  float64       \n",
            " 7   Country      54345 non-null  object        \n",
            "dtypes: datetime64[ns](1), float64(2), int64(1), object(4)\n",
            "memory usage: 3.7+ MB\n",
            "None\n",
            "  InvoiceNo StockCode                          Description  Quantity  \\\n",
            "0    536365    85123A   WHITE HANGING HEART T-LIGHT HOLDER         6   \n",
            "1    536365     71053                  WHITE METAL LANTERN         6   \n",
            "2    536365    84406B       CREAM CUPID HEARTS COAT HANGER         8   \n",
            "3    536365    84029G  KNITTED UNION FLAG HOT WATER BOTTLE         6   \n",
            "4    536365    84029E       RED WOOLLY HOTTIE WHITE HEART.         6   \n",
            "\n",
            "          InvoiceDate  UnitPrice  CustomerID         Country  \n",
            "0 2010-12-01 08:26:00       2.55     17850.0  United Kingdom  \n",
            "1 2010-12-01 08:26:00       3.39     17850.0  United Kingdom  \n",
            "2 2010-12-01 08:26:00       2.75     17850.0  United Kingdom  \n",
            "3 2010-12-01 08:26:00       3.39     17850.0  United Kingdom  \n",
            "4 2010-12-01 08:26:00       3.39     17850.0  United Kingdom  \n"
          ]
        }
      ]
    },
    {
      "cell_type": "code",
      "source": [
        "df['TotalPrice'] = df['Quantity'] * df['UnitPrice']\n",
        "customer_data = df.groupby('CustomerID').agg({\n",
        "    'TotalPrice': 'sum',\n",
        "    'InvoiceNo': 'nunique',\n",
        "    'Quantity': 'sum'\n",
        "}).reset_index()\n",
        "customer_data.columns = ['CustomerID', 'TotalSpent', 'PurchaseFrequency', 'TotalItems']\n",
        "customer_data['Purchased'] = 1\n",
        "print(\"Customer features:\")\n",
        "print(customer_data.head())\n",
        "print(customer_data.info())"
      ],
      "metadata": {
        "colab": {
          "base_uri": "https://localhost:8080/"
        },
        "id": "M5QnNuPM66Hk",
        "outputId": "ad3643dc-618f-4234-e10c-3b8a677da51d"
      },
      "execution_count": 3,
      "outputs": [
        {
          "output_type": "stream",
          "name": "stdout",
          "text": [
            "Customer features:\n",
            "   CustomerID  TotalSpent  PurchaseFrequency  TotalItems  Purchased\n",
            "0     12346.0    77183.60                  1       74215          1\n",
            "1     12347.0     1187.18                  2         634          1\n",
            "2     12348.0     1120.24                  2        1855          1\n",
            "3     12350.0      334.40                  1         197          1\n",
            "4     12356.0     2271.62                  1        1216          1\n",
            "<class 'pandas.core.frame.DataFrame'>\n",
            "RangeIndex: 1450 entries, 0 to 1449\n",
            "Data columns (total 5 columns):\n",
            " #   Column             Non-Null Count  Dtype  \n",
            "---  ------             --------------  -----  \n",
            " 0   CustomerID         1450 non-null   float64\n",
            " 1   TotalSpent         1450 non-null   float64\n",
            " 2   PurchaseFrequency  1450 non-null   int64  \n",
            " 3   TotalItems         1450 non-null   int64  \n",
            " 4   Purchased          1450 non-null   int64  \n",
            "dtypes: float64(2), int64(3)\n",
            "memory usage: 56.8 KB\n",
            "None\n"
          ]
        }
      ]
    }
  ]
}